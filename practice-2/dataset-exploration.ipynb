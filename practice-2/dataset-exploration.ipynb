{
 "cells": [
  {
   "cell_type": "code",
   "execution_count": 2,
   "metadata": {},
   "outputs": [
    {
     "name": "stdout",
     "output_type": "stream",
     "text": [
      "23/02/24 04:07:49 WARN Utils: Your hostname, vladimir-hp250g7notebookpc resolves to a loopback address: 127.0.1.1; using 192.168.1.43 instead (on interface wlo1)\n",
      "23/02/24 04:07:49 WARN Utils: Set SPARK_LOCAL_IP if you need to bind to another address\n"
     ]
    },
    {
     "name": "stderr",
     "output_type": "stream",
     "text": [
      "Setting default log level to \"WARN\".\n",
      "To adjust logging level use sc.setLogLevel(newLevel). For SparkR, use setLogLevel(newLevel).\n"
     ]
    },
    {
     "name": "stdout",
     "output_type": "stream",
     "text": [
      "23/02/24 04:07:53 WARN NativeCodeLoader: Unable to load native-hadoop library for your platform... using builtin-java classes where applicable\n",
      "23/02/24 04:07:58 WARN Utils: Service 'SparkUI' could not bind on port 4040. Attempting port 4041.\n"
     ]
    }
   ],
   "source": [
    "from pyspark.sql import SparkSession\n",
    "\n",
    "spark = SparkSession.builder.appName(\"First\").getOrCreate()"
   ]
  },
  {
   "cell_type": "code",
   "execution_count": 4,
   "metadata": {},
   "outputs": [
    {
     "name": "stderr",
     "output_type": "stream",
     "text": [
      "                                                                                \r"
     ]
    }
   ],
   "source": [
    "df = spark.read.format(\"csv\").option(\"header\", True).load(\"data/cars.csv\")"
   ]
  },
  {
   "cell_type": "code",
   "execution_count": 5,
   "metadata": {},
   "outputs": [
    {
     "name": "stdout",
     "output_type": "stream",
     "text": [
      "23/02/24 04:09:56 WARN package: Truncated the string representation of a plan since it was too large. This behavior can be adjusted by setting 'spark.sql.debug.maxToStringFields'.\n"
     ]
    },
    {
     "name": "stderr",
     "output_type": "stream",
     "text": [
      "                                                                                \r"
     ]
    },
    {
     "name": "stdout",
     "output_type": "stream",
     "text": [
      "+-----------------+----------+------------+------+--------------+-------------+-----------+--------------+-----------+---------------+---------+------------+-----+----------+---------+---------------+---------------+----------------+----------+---------+---------+---------+---------+---------+---------+---------+---------+---------+---------+---------------+\n",
      "|manufacturer_name|model_name|transmission| color|odometer_value|year_produced|engine_fuel|engine_has_gas|engine_type|engine_capacity|body_type|has_warranty|state|drivetrain|price_usd|is_exchangeable|location_region|number_of_photos|up_counter|feature_0|feature_1|feature_2|feature_3|feature_4|feature_5|feature_6|feature_7|feature_8|feature_9|duration_listed|\n",
      "+-----------------+----------+------------+------+--------------+-------------+-----------+--------------+-----------+---------------+---------+------------+-----+----------+---------+---------------+---------------+----------------+----------+---------+---------+---------+---------+---------+---------+---------+---------+---------+---------+---------------+\n",
      "|           Subaru|   Outback|   automatic|silver|        190000|         2010|   gasoline|         False|   gasoline|            2.5|universal|       False|owned|       all|  10900.0|          False|   Минская обл.|               9|        13|    False|     True|     True|     True|    False|     True|    False|     True|     True|     True|             16|\n",
      "|           Subaru|   Outback|   automatic|  blue|        290000|         2002|   gasoline|         False|   gasoline|            3.0|universal|       False|owned|       all|   5000.0|           True|   Минская обл.|              12|        54|    False|     True|    False|    False|     True|     True|    False|    False|    False|     True|             83|\n",
      "|           Subaru|  Forester|   automatic|   red|        402000|         2001|   gasoline|         False|   gasoline|            2.5|      suv|       False|owned|       all|   2800.0|           True|   Минская обл.|               4|        72|    False|     True|    False|    False|    False|    False|    False|    False|     True|     True|            151|\n",
      "|           Subaru|   Impreza|  mechanical|  blue|         10000|         1999|   gasoline|         False|   gasoline|            3.0|    sedan|       False|owned|       all|   9999.0|           True|   Минская обл.|               9|        42|     True|    False|    False|    False|    False|    False|    False|    False|    False|    False|             86|\n",
      "|           Subaru|    Legacy|   automatic| black|        280000|         2001|   gasoline|         False|   gasoline|            2.5|universal|       False|owned|       all|  2134.11|           True|Гомельская обл.|              14|         7|    False|     True|    False|     True|     True|    False|    False|    False|    False|     True|              7|\n",
      "|           Subaru|   Outback|   automatic|silver|        132449|         2011|   gasoline|         False|   gasoline|            2.5|universal|       False|owned|       all|  14700.0|           True|   Минская обл.|              20|        56|    False|     True|    False|    False|    False|     True|    False|     True|     True|     True|             67|\n",
      "|           Subaru|  Forester|   automatic| black|        318280|         1998|   gasoline|         False|   gasoline|            2.5|universal|       False|owned|       all|   3000.0|           True|   Минская обл.|               8|       147|    False|     True|    False|    False|     True|     True|    False|    False|     True|     True|            307|\n",
      "|           Subaru|    Legacy|   automatic|silver|        350000|         2004|   gasoline|         False|   gasoline|            2.5|    sedan|       False|owned|       all|   4500.0|          False| Брестская обл.|               7|        29|    False|     True|     True|    False|    False|    False|    False|    False|    False|     True|             73|\n",
      "|           Subaru|   Outback|   automatic|  grey|        179000|         2010|   gasoline|         False|   gasoline|            2.5|universal|       False|owned|       all|  12900.0|          False|   Минская обл.|              17|        33|    False|     True|     True|     True|     True|     True|     True|     True|     True|     True|             87|\n",
      "|           Subaru|  Forester|   automatic|silver|        571317|         1999|   gasoline|         False|   gasoline|            2.5|universal|       False|owned|       all|   4200.0|           True|   Минская обл.|               8|        11|    False|     True|     True|    False|    False|     True|    False|    False|    False|     True|             43|\n",
      "|           Subaru|  Forester|  mechanical| other|        280000|         2003|   gasoline|         False|   gasoline|            2.0|      suv|       False|owned|       all|   6900.0|           True|   Минская обл.|              14|         6|    False|     True|    False|     True|    False|     True|    False|     True|     True|     True|             11|\n",
      "|           Subaru|   Tribeca|   automatic|  grey|        256000|         2008|   gasoline|         False|   gasoline|            3.6|      suv|       False|owned|       all|   8350.0|           True|   Минская обл.|              18|        61|    False|     True|     True|     True|     True|     True|    False|    False|     True|     True|             80|\n",
      "|           Subaru|  Forester|  mechanical| other|        321000|         2002|   gasoline|         False|   gasoline|            2.0|      suv|       False|owned|       all|   4300.0|          False|   Минская обл.|              13|         2|    False|     True|    False|    False|    False|    False|    False|    False|    False|    False|              2|\n",
      "|           Subaru|     Justy|  mechanical|   red|         49999|         2001|   gasoline|         False|   gasoline|            1.3|hatchback|       False|owned|       all|   1666.0|          False|Гомельская обл.|               8|        94|     True|    False|    False|    False|    False|    False|    False|    False|    False|    False|            230|\n",
      "|           Subaru|   Outback|   automatic| brown|        154685|         2011|   gasoline|         False|   gasoline|            2.5|universal|       False|owned|       all|   8600.0|           True|   Минская обл.|              24|        34|    False|     True|    False|     True|    False|    False|    False|    False|     True|     True|             63|\n",
      "|           Subaru|   Outback|   automatic| black|        163219|         2004|   gasoline|         False|   gasoline|            2.0|universal|       False|owned|       all|   7300.0|           True|   Минская обл.|              17|        22|    False|     True|     True|    False|     True|     True|    False|    False|    False|     True|             35|\n",
      "|           Subaru|   Outback|   automatic| other|        318650|         2005|   gasoline|         False|   gasoline|            3.0|universal|       False|owned|       all|  7587.97|           True|   Минская обл.|               7|       166|    False|     True|    False|     True|     True|     True|    False|    False|     True|     True|            468|\n",
      "|           Subaru|   Impreza|  mechanical|  blue|        191000|         2005|   gasoline|         False|   gasoline|            2.0|    sedan|       False|owned|       all|  10950.0|          False|   Минская обл.|              12|         7|    False|     True|    False|    False|    False|    False|    False|    False|    False|     True|             21|\n",
      "|           Subaru|  Forester|   automatic|silver|        179000|         2014|   gasoline|         False|   gasoline|            2.0|      suv|       False|owned|       all|  12700.0|          False|   Минская обл.|              14|        14|    False|    False|     True|     True|    False|     True|     True|     True|     True|     True|             16|\n",
      "|           Subaru|  Forester|   automatic| black|        159000|         2013|   gasoline|         False|   gasoline|            2.0|      suv|       False|owned|       all|  16500.0|          False|   Минская обл.|               6|        34|    False|     True|     True|    False|     True|     True|    False|     True|     True|     True|             59|\n",
      "+-----------------+----------+------------+------+--------------+-------------+-----------+--------------+-----------+---------------+---------+------------+-----+----------+---------+---------------+---------------+----------------+----------+---------+---------+---------+---------+---------+---------+---------+---------+---------+---------+---------------+\n",
      "only showing top 20 rows\n",
      "\n"
     ]
    }
   ],
   "source": [
    "df.show() # 20 lines of dataframe by default showing "
   ]
  },
  {
   "cell_type": "code",
   "execution_count": 6,
   "metadata": {},
   "outputs": [
    {
     "name": "stderr",
     "output_type": "stream",
     "text": [
      "                                                                                \r"
     ]
    },
    {
     "name": "stdout",
     "output_type": "stream",
     "text": [
      "+-----------------+----------+------------+------+--------------+-------------+-----------+--------------+-----------+---------------+---------+------------+-----+----------+---------+---------------+---------------+----------------+----------+---------+---------+---------+---------+---------+---------+---------+---------+---------+---------+---------------+\n",
      "|manufacturer_name|model_name|transmission| color|odometer_value|year_produced|engine_fuel|engine_has_gas|engine_type|engine_capacity|body_type|has_warranty|state|drivetrain|price_usd|is_exchangeable|location_region|number_of_photos|up_counter|feature_0|feature_1|feature_2|feature_3|feature_4|feature_5|feature_6|feature_7|feature_8|feature_9|duration_listed|\n",
      "+-----------------+----------+------------+------+--------------+-------------+-----------+--------------+-----------+---------------+---------+------------+-----+----------+---------+---------------+---------------+----------------+----------+---------+---------+---------+---------+---------+---------+---------+---------+---------+---------+---------------+\n",
      "|           Subaru|   Outback|   automatic|silver|        190000|         2010|   gasoline|         False|   gasoline|            2.5|universal|       False|owned|       all|  10900.0|          False|   Минская обл.|               9|        13|    False|     True|     True|     True|    False|     True|    False|     True|     True|     True|             16|\n",
      "|           Subaru|   Outback|   automatic|  blue|        290000|         2002|   gasoline|         False|   gasoline|            3.0|universal|       False|owned|       all|   5000.0|           True|   Минская обл.|              12|        54|    False|     True|    False|    False|     True|     True|    False|    False|    False|     True|             83|\n",
      "|           Subaru|  Forester|   automatic|   red|        402000|         2001|   gasoline|         False|   gasoline|            2.5|      suv|       False|owned|       all|   2800.0|           True|   Минская обл.|               4|        72|    False|     True|    False|    False|    False|    False|    False|    False|     True|     True|            151|\n",
      "|           Subaru|   Impreza|  mechanical|  blue|         10000|         1999|   gasoline|         False|   gasoline|            3.0|    sedan|       False|owned|       all|   9999.0|           True|   Минская обл.|               9|        42|     True|    False|    False|    False|    False|    False|    False|    False|    False|    False|             86|\n",
      "|           Subaru|    Legacy|   automatic| black|        280000|         2001|   gasoline|         False|   gasoline|            2.5|universal|       False|owned|       all|  2134.11|           True|Гомельская обл.|              14|         7|    False|     True|    False|     True|     True|    False|    False|    False|    False|     True|              7|\n",
      "+-----------------+----------+------------+------+--------------+-------------+-----------+--------------+-----------+---------------+---------+------------+-----+----------+---------+---------------+---------------+----------------+----------+---------+---------+---------+---------+---------+---------+---------+---------+---------+---------+---------------+\n",
      "only showing top 5 rows\n",
      "\n"
     ]
    }
   ],
   "source": [
    "df.show(5) # showing 5 rows of entire dataframe"
   ]
  }
 ],
 "metadata": {
  "kernelspec": {
   "display_name": "spark",
   "language": "python",
   "name": "python3"
  },
  "language_info": {
   "codemirror_mode": {
    "name": "ipython",
    "version": 3
   },
   "file_extension": ".py",
   "mimetype": "text/x-python",
   "name": "python",
   "nbconvert_exporter": "python",
   "pygments_lexer": "ipython3",
   "version": "3.9.16"
  },
  "orig_nbformat": 4,
  "vscode": {
   "interpreter": {
    "hash": "277516aebddfbe4009261a050ff0cdc3685098e5b1cde88280b431debdfccab0"
   }
  }
 },
 "nbformat": 4,
 "nbformat_minor": 2
}
