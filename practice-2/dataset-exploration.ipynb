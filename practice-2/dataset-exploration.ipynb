{
 "cells": [
  {
   "cell_type": "code",
   "execution_count": null,
   "metadata": {},
   "outputs": [],
   "source": [
    "from pyspark.sql import SparkSession\n",
    "\n",
    "spark = SparkSession.builder.appName(\"First\").getOrCreate()"
   ]
  },
  {
   "cell_type": "code",
   "execution_count": null,
   "metadata": {},
   "outputs": [],
   "source": [
    "df = spark.read.format(\"csv\").option(\"header\", True).load(\"data/cars.csv\")"
   ]
  },
  {
   "cell_type": "code",
   "execution_count": null,
   "metadata": {},
   "outputs": [],
   "source": [
    "df.show() # 20 lines of dataframe by default showing "
   ]
  },
  {
   "cell_type": "code",
   "execution_count": null,
   "metadata": {},
   "outputs": [],
   "source": [
    "df.show(5) # showing 5 rows of entire dataframe"
   ]
  },
  {
   "cell_type": "code",
   "execution_count": null,
   "metadata": {},
   "outputs": [],
   "source": [
    "df.show(1,vertical=True) # showing the 1 row in column (could be more then 1 rows)"
   ]
  },
  {
   "cell_type": "code",
   "execution_count": null,
   "metadata": {},
   "outputs": [],
   "source": [
    "df.select(\"manufacturer_name\",\"model_name\").show(5) # selecting 2 columns by column name and returning new df"
   ]
  },
  {
   "cell_type": "code",
   "execution_count": null,
   "metadata": {},
   "outputs": [],
   "source": [
    "df.select(df[\"model_name\"]).show(5) # looking at the column by pointing it with df[columnName]"
   ]
  },
  {
   "cell_type": "code",
   "execution_count": null,
   "metadata": {},
   "outputs": [],
   "source": [
    "# importing sql functions from spark\n",
    "import pyspark.sql.functions as F\n",
    "# looking at the columns with sql functions\n",
    "df.select(F.col(\"manufacturer_name\"),F.col(\"model_name\"),F.col(\"transmission\")).show(5) "
   ]
  },
  {
   "cell_type": "code",
   "execution_count": null,
   "metadata": {},
   "outputs": [],
   "source": [
    "# selecting only Audi using filter function\n",
    "df.select(\"manufacturer_name\",\"model_name\").filter(\"manufacturer_name = 'Audi'\").show(5)"
   ]
  },
  {
   "cell_type": "code",
   "execution_count": null,
   "metadata": {},
   "outputs": [],
   "source": [
    "# more then one condition or conditions one by one \n",
    "# and using () bemcome \\ pyhton methods to write code in multiply lines\n",
    "(\n",
    "df.select(\"manufacturer_name\",\"model_name\",\"transmission\")\n",
    ".filter(\"manufacturer_name = 'Audi'\")\n",
    ".filter(\"model_name = '100'\")\n",
    ".filter(\"transmission = 'mechanical'\")\n",
    ".show(5)\n",
    ")"
   ]
  },
  {
   "cell_type": "code",
   "execution_count": null,
   "metadata": {},
   "outputs": [],
   "source": [
    "# querying by one sql expression\n",
    "(\n",
    "df.select(\"manufacturer_name\",\"model_name\",\"transmission\")\n",
    ".filter(\"manufacturer_name = 'Audi' and transmission = 'mechanical'\")\n",
    ".show(5)\n",
    ")"
   ]
  },
  {
   "cell_type": "code",
   "execution_count": null,
   "metadata": {},
   "outputs": [],
   "source": [
    "# querying by sql functions with column - col()\n",
    "\n",
    "(\n",
    "df.select(\"manufacturer_name\",\"model_name\",\"transmission\")\n",
    ".filter(F.col(\"manufacturer_name\") == 'Audi')\n",
    ".filter(F.col(\"transmission\") != 'mechanical')\n",
    ".filter(F.col(\"model_name\") == 'TT')\n",
    ".show(5)\n",
    ")"
   ]
  },
  {
   "cell_type": "code",
   "execution_count": null,
   "metadata": {},
   "outputs": [],
   "source": [
    "# numbers of rows in a dataframe\n",
    "df.count()"
   ]
  },
  {
   "cell_type": "code",
   "execution_count": null,
   "metadata": {},
   "outputs": [],
   "source": [
    "# unique rows number in datafrme\n",
    "df.distinct().count()"
   ]
  },
  {
   "cell_type": "code",
   "execution_count": null,
   "metadata": {},
   "outputs": [],
   "source": [
    "# GROUP BY ORDER BY\n",
    "# group by and count\n",
    "\n",
    "df.groupBy(\"manufacturer_name\").count().show(5000)"
   ]
  },
  {
   "cell_type": "code",
   "execution_count": null,
   "metadata": {},
   "outputs": [],
   "source": [
    "# sorting the column down\n",
    "\n",
    "df.groupBy(\"manufacturer_name\").count().orderBy(\"count\").show(10)"
   ]
  },
  {
   "cell_type": "code",
   "execution_count": null,
   "metadata": {},
   "outputs": [],
   "source": [
    "# to be able to sort the column upside must to call the column by col() and use F.col(\"column_name\").desc()\n",
    "\n",
    "df.groupBy(\"manufacturer_name\").count().orderBy(F.col(\"count\").desc()).show(100)"
   ]
  },
  {
   "cell_type": "code",
   "execution_count": null,
   "metadata": {},
   "outputs": [],
   "source": [
    "# using .withColumnRenamed() and  to rename the column\n",
    "\n",
    "df.withColumnRenamed(existing=\"manufacturer_name\",new=\"manufacturer\").select(\"manufacturer\").show(5)"
   ]
  },
  {
   "cell_type": "code",
   "execution_count": null,
   "metadata": {},
   "outputs": [],
   "source": [
    "# using .withColumn() to create new column - must use F.col() to point on\n",
    "# first argumnet new column name, second the expration\n",
    "\n",
    "df.withColumn(\"year_after_year_produced\", F.col(\"year_produced\") + 1).select(\"year_after_year_produced\").show(7)"
   ]
  },
  {
   "cell_type": "code",
   "execution_count": null,
   "metadata": {},
   "outputs": [],
   "source": [
    "# info about DF schema\n",
    "# important thing about schema in csv and spark - all fields are string\n",
    "df.printSchema()\n"
   ]
  },
  {
   "cell_type": "code",
   "execution_count": null,
   "metadata": {},
   "outputs": [],
   "source": [
    "df.schema"
   ]
  },
  {
   "cell_type": "code",
   "execution_count": null,
   "metadata": {},
   "outputs": [],
   "source": [
    "# usefull df.describe() give us many info about DF\n",
    "\n",
    "df.describe()"
   ]
  },
  {
   "cell_type": "code",
   "execution_count": 72,
   "metadata": {},
   "outputs": [
    {
     "name": "stderr",
     "output_type": "stream",
     "text": [
      "                                                                                \r"
     ]
    },
    {
     "name": "stdout",
     "output_type": "stream",
     "text": [
      "+-------+-----------------+------------------+------------------+-----------------+\n",
      "|summary|manufacturer_name|        model_name|     year_produced|        price_usd|\n",
      "+-------+-----------------+------------------+------------------+-----------------+\n",
      "|  count|            38531|             38531|             38531|            38531|\n",
      "|   mean|             null|1168.2918056562726|2002.9437336170874|6639.971021255605|\n",
      "| stddev|             null| 9820.119520829581| 8.065730511309935|6428.152018202911|\n",
      "|    min|            Acura|               100|              1942|              1.0|\n",
      "|    max|              УАЗ|            Таврия|              2019|           9999.0|\n",
      "+-------+-----------------+------------------+------------------+-----------------+\n",
      "\n"
     ]
    }
   ],
   "source": [
    "# give us statistics by columns (count,mean,stddev,min,max)\n",
    "df.select(\"manufacturer_name\",\"model_name\",\"year_produced\",\"price_usd\").describe().show(5)"
   ]
  }
 ],
 "metadata": {
  "kernelspec": {
   "display_name": "spark",
   "language": "python",
   "name": "python3"
  },
  "language_info": {
   "codemirror_mode": {
    "name": "ipython",
    "version": 3
   },
   "file_extension": ".py",
   "mimetype": "text/x-python",
   "name": "python",
   "nbconvert_exporter": "python",
   "pygments_lexer": "ipython3",
   "version": "3.9.16"
  },
  "orig_nbformat": 4,
  "vscode": {
   "interpreter": {
    "hash": "277516aebddfbe4009261a050ff0cdc3685098e5b1cde88280b431debdfccab0"
   }
  }
 },
 "nbformat": 4,
 "nbformat_minor": 2
}
