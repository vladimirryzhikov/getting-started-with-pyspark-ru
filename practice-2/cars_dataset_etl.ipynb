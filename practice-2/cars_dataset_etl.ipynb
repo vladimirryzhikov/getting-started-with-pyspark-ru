{
 "cells": [
  {
   "cell_type": "code",
   "execution_count": 9,
   "metadata": {},
   "outputs": [
    {
     "name": "stderr",
     "output_type": "stream",
     "text": [
      "                                                                                \r"
     ]
    }
   ],
   "source": [
    "from pyspark.sql import SparkSession, DataFrame\n",
    "from pyspark.sql import functions as F\n",
    "from pyspark.sql import types as T\n",
    "\n",
    "# read the df and return\n",
    "def extract_data(spark:SparkSession, path:str) -> DataFrame:\n",
    "    return spark.read.option(\"header\",True).csv(path)\n",
    "\n",
    "# some transformation and agregation\n",
    "def transform_data(df:DataFrame) -> DataFrame:\n",
    "    oputput = (\n",
    "\n",
    "        df\n",
    "        .groupBy(\"manufacturer_name\")\n",
    "        .agg(\n",
    "            F.count(\"manufacturer_name\").alias(\"count_ads\"),\n",
    "            F.round(F.avg(\"year_produced\")).cast(T.IntegerType()).alias(\"year_produced\"),\n",
    "            F.min(F.col(\"price_usd\")).alias(\"min_price\"),\n",
    "            F.max(F.col(\"price_usd\")).alias(\"max_price\"),\n",
    "\n",
    "        )\n",
    "        .orderBy(F.col(\"count_ads\"))\n",
    "\n",
    "    )\n",
    "    return oputput\n",
    "# saving the results paramtrized in main()\n",
    "def save_data_par(df:DataFrame,output_type:str)-> None:\n",
    "    df.coalesce(4).write.mode(\"overwrite\").format(output_type).save(f\"data_{output_type}\")\n",
    "\n",
    "def save_data(df:DataFrame) -> None:\n",
    "    df.coalesce(4).write.mode(\"overwrite\").format(\"json\").save(\"output_json\")\n",
    "\n",
    "def main():\n",
    "    \n",
    "    spark = SparkSession.builder.appName(\"Second\").getOrCreate() # creation of spark session\n",
    "    path = \"data/cars.csv\" # path to data\n",
    "    output_type = \"json\" # file type to save\n",
    "    df = extract_data(spark,path)\n",
    "    output = transform_data(df)\n",
    "    # parametrized function\n",
    "    save_data_par(output,output_type)\n",
    "    # simple save data\n",
    "    # save_data(output)\n",
    "\n",
    "    # SparkContext stop() method\n",
    "    #spark.sparkContext.stop()\n",
    "\n",
    "    #spark.stop()\n",
    "    \n",
    "main()"
   ]
  },
  {
   "cell_type": "code",
   "execution_count": 2,
   "metadata": {},
   "outputs": [
    {
     "ename": "NameError",
     "evalue": "name 'spark' is not defined",
     "output_type": "error",
     "traceback": [
      "\u001b[0;31m---------------------------------------------------------------------------\u001b[0m",
      "\u001b[0;31mNameError\u001b[0m                                 Traceback (most recent call last)",
      "Cell \u001b[0;32mIn[2], line 1\u001b[0m\n\u001b[0;32m----> 1\u001b[0m spark\u001b[39m.\u001b[39mstop()\n",
      "\u001b[0;31mNameError\u001b[0m: name 'spark' is not defined"
     ]
    }
   ],
   "source": [
    "spark.Context.stop()"
   ]
  },
  {
   "cell_type": "code",
   "execution_count": null,
   "metadata": {},
   "outputs": [],
   "source": []
  },
  {
   "cell_type": "code",
   "execution_count": null,
   "metadata": {},
   "outputs": [],
   "source": []
  },
  {
   "cell_type": "code",
   "execution_count": null,
   "metadata": {},
   "outputs": [],
   "source": []
  }
 ],
 "metadata": {
  "kernelspec": {
   "display_name": "spark",
   "language": "python",
   "name": "python3"
  },
  "language_info": {
   "codemirror_mode": {
    "name": "ipython",
    "version": 3
   },
   "file_extension": ".py",
   "mimetype": "text/x-python",
   "name": "python",
   "nbconvert_exporter": "python",
   "pygments_lexer": "ipython3",
   "version": "3.9.16"
  },
  "orig_nbformat": 4,
  "vscode": {
   "interpreter": {
    "hash": "277516aebddfbe4009261a050ff0cdc3685098e5b1cde88280b431debdfccab0"
   }
  }
 },
 "nbformat": 4,
 "nbformat_minor": 2
}
